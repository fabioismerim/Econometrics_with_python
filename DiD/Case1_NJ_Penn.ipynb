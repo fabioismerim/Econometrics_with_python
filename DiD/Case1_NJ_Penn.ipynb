{
 "cells": [
  {
   "cell_type": "markdown",
   "id": "7df5aa9c-c18d-4e06-9582-55287c72b571",
   "metadata": {},
   "source": [
    "# Difference in Differences\n",
    "\n",
    "## Study Case 1 - New Jersey vs Pennsylvania"
   ]
  },
  {
   "cell_type": "code",
   "execution_count": 1,
   "id": "06109031-a3f5-4d79-bb25-1fca38036b8d",
   "metadata": {},
   "outputs": [],
   "source": [
    "#impoprt packages\n",
    "\n",
    "import pandas as pd\n",
    "import numpy as np\n",
    "import seaborn as sns\n",
    "import matplotlib.pyplot as plt\n",
    "from sklearn.impute import SimpleImputer\n",
    "import statsmodels.api as smf\n",
    "%matplotlib inline\n",
    "\n"
   ]
  },
  {
   "cell_type": "code",
   "execution_count": 2,
   "id": "5ed8044a-1941-4274-bfdc-50f7aaed9ace",
   "metadata": {
    "tags": []
   },
   "outputs": [
    {
     "data": {
      "text/html": [
       "<div>\n",
       "<style scoped>\n",
       "    .dataframe tbody tr th:only-of-type {\n",
       "        vertical-align: middle;\n",
       "    }\n",
       "\n",
       "    .dataframe tbody tr th {\n",
       "        vertical-align: top;\n",
       "    }\n",
       "\n",
       "    .dataframe thead th {\n",
       "        text-align: right;\n",
       "    }\n",
       "</style>\n",
       "<table border=\"1\" class=\"dataframe\">\n",
       "  <thead>\n",
       "    <tr style=\"text-align: right;\">\n",
       "      <th></th>\n",
       "      <th>NJ</th>\n",
       "      <th>POST_APRIL92</th>\n",
       "      <th>NJ_POST_APRIL92</th>\n",
       "      <th>fte</th>\n",
       "      <th>bk</th>\n",
       "      <th>kfc</th>\n",
       "      <th>roys</th>\n",
       "      <th>wendys</th>\n",
       "      <th>co_owned</th>\n",
       "      <th>centralj</th>\n",
       "      <th>southj</th>\n",
       "      <th>pa1</th>\n",
       "      <th>pa2</th>\n",
       "      <th>demp</th>\n",
       "    </tr>\n",
       "  </thead>\n",
       "  <tbody>\n",
       "    <tr>\n",
       "      <th>0</th>\n",
       "      <td>1</td>\n",
       "      <td>0</td>\n",
       "      <td>0</td>\n",
       "      <td>15.00</td>\n",
       "      <td>1</td>\n",
       "      <td>0</td>\n",
       "      <td>0</td>\n",
       "      <td>0</td>\n",
       "      <td>0</td>\n",
       "      <td>1</td>\n",
       "      <td>0</td>\n",
       "      <td>0</td>\n",
       "      <td>0</td>\n",
       "      <td>12.00</td>\n",
       "    </tr>\n",
       "    <tr>\n",
       "      <th>1</th>\n",
       "      <td>1</td>\n",
       "      <td>0</td>\n",
       "      <td>0</td>\n",
       "      <td>15.00</td>\n",
       "      <td>1</td>\n",
       "      <td>0</td>\n",
       "      <td>0</td>\n",
       "      <td>0</td>\n",
       "      <td>0</td>\n",
       "      <td>1</td>\n",
       "      <td>0</td>\n",
       "      <td>0</td>\n",
       "      <td>0</td>\n",
       "      <td>6.50</td>\n",
       "    </tr>\n",
       "    <tr>\n",
       "      <th>2</th>\n",
       "      <td>1</td>\n",
       "      <td>0</td>\n",
       "      <td>0</td>\n",
       "      <td>24.00</td>\n",
       "      <td>0</td>\n",
       "      <td>0</td>\n",
       "      <td>1</td>\n",
       "      <td>0</td>\n",
       "      <td>0</td>\n",
       "      <td>1</td>\n",
       "      <td>0</td>\n",
       "      <td>0</td>\n",
       "      <td>0</td>\n",
       "      <td>-1.00</td>\n",
       "    </tr>\n",
       "    <tr>\n",
       "      <th>3</th>\n",
       "      <td>1</td>\n",
       "      <td>0</td>\n",
       "      <td>0</td>\n",
       "      <td>19.25</td>\n",
       "      <td>0</td>\n",
       "      <td>0</td>\n",
       "      <td>1</td>\n",
       "      <td>0</td>\n",
       "      <td>1</td>\n",
       "      <td>0</td>\n",
       "      <td>0</td>\n",
       "      <td>0</td>\n",
       "      <td>0</td>\n",
       "      <td>2.25</td>\n",
       "    </tr>\n",
       "    <tr>\n",
       "      <th>4</th>\n",
       "      <td>1</td>\n",
       "      <td>0</td>\n",
       "      <td>0</td>\n",
       "      <td>21.50</td>\n",
       "      <td>1</td>\n",
       "      <td>0</td>\n",
       "      <td>0</td>\n",
       "      <td>0</td>\n",
       "      <td>0</td>\n",
       "      <td>0</td>\n",
       "      <td>0</td>\n",
       "      <td>0</td>\n",
       "      <td>0</td>\n",
       "      <td>13.00</td>\n",
       "    </tr>\n",
       "  </tbody>\n",
       "</table>\n",
       "</div>"
      ],
      "text/plain": [
       "   NJ  POST_APRIL92  NJ_POST_APRIL92    fte  bk  kfc  roys  wendys  co_owned  \\\n",
       "0   1             0                0  15.00   1    0     0       0         0   \n",
       "1   1             0                0  15.00   1    0     0       0         0   \n",
       "2   1             0                0  24.00   0    0     1       0         0   \n",
       "3   1             0                0  19.25   0    0     1       0         1   \n",
       "4   1             0                0  21.50   1    0     0       0         0   \n",
       "\n",
       "   centralj  southj  pa1  pa2   demp  \n",
       "0         1       0    0    0  12.00  \n",
       "1         1       0    0    0   6.50  \n",
       "2         1       0    0    0  -1.00  \n",
       "3         0       0    0    0   2.25  \n",
       "4         0       0    0    0  13.00  "
      ]
     },
     "execution_count": 2,
     "metadata": {},
     "output_type": "execute_result"
    }
   ],
   "source": [
    "#import data\n",
    "\n",
    "df = pd.read_csv('njmin3.csv')\n",
    "\n",
    "df.head()"
   ]
  },
  {
   "cell_type": "markdown",
   "id": "a286b82a-41ed-4252-b1d7-77a70158fffc",
   "metadata": {},
   "source": [
    "### Cleaning & Wrangling"
   ]
  },
  {
   "cell_type": "code",
   "execution_count": 3,
   "id": "caa06119-5601-448c-8196-4fe8e02ce79d",
   "metadata": {
    "tags": []
   },
   "outputs": [
    {
     "data": {
      "text/plain": [
       "NJ                  0\n",
       "POST_APRIL92        0\n",
       "NJ_POST_APRIL92     0\n",
       "fte                26\n",
       "bk                  0\n",
       "kfc                 0\n",
       "roys                0\n",
       "wendys              0\n",
       "co_owned            0\n",
       "centralj            0\n",
       "southj              0\n",
       "pa1                 0\n",
       "pa2                 0\n",
       "demp               52\n",
       "dtype: int64"
      ]
     },
     "execution_count": 3,
     "metadata": {},
     "output_type": "execute_result"
    }
   ],
   "source": [
    "# null values\n",
    "df.isna().sum()"
   ]
  },
  {
   "cell_type": "code",
   "execution_count": 4,
   "id": "6df9fd71-a153-4e90-88ed-804362a5e51e",
   "metadata": {
    "tags": []
   },
   "outputs": [
    {
     "data": {
      "text/plain": [
       "NJ                   int64\n",
       "POST_APRIL92         int64\n",
       "NJ_POST_APRIL92      int64\n",
       "fte                float64\n",
       "bk                   int64\n",
       "kfc                  int64\n",
       "roys                 int64\n",
       "wendys               int64\n",
       "co_owned             int64\n",
       "centralj             int64\n",
       "southj               int64\n",
       "pa1                  int64\n",
       "pa2                  int64\n",
       "demp               float64\n",
       "dtype: object"
      ]
     },
     "execution_count": 4,
     "metadata": {},
     "output_type": "execute_result"
    }
   ],
   "source": [
    "df.dtypes"
   ]
  },
  {
   "cell_type": "code",
   "execution_count": 5,
   "id": "0f5887b0-04c2-4937-a510-c58cbfd08bb8",
   "metadata": {
    "tags": []
   },
   "outputs": [],
   "source": [
    "missingvalues = SimpleImputer(missing_values = np.nan,\n",
    "                              strategy = 'mean').fit(df[['fte', 'demp']])"
   ]
  },
  {
   "cell_type": "code",
   "execution_count": 6,
   "id": "dff0bd17-c14f-4095-a88a-8dd6338e3e94",
   "metadata": {
    "tags": []
   },
   "outputs": [],
   "source": [
    "df[['fte', 'demp']] = missingvalues.transform(df[['fte', 'demp']])"
   ]
  },
  {
   "cell_type": "code",
   "execution_count": 7,
   "id": "e3d742a4-02c8-4f4c-aa08-a730d77b2c8c",
   "metadata": {
    "tags": []
   },
   "outputs": [
    {
     "data": {
      "text/plain": [
       "NJ                 0\n",
       "POST_APRIL92       0\n",
       "NJ_POST_APRIL92    0\n",
       "fte                0\n",
       "bk                 0\n",
       "kfc                0\n",
       "roys               0\n",
       "wendys             0\n",
       "co_owned           0\n",
       "centralj           0\n",
       "southj             0\n",
       "pa1                0\n",
       "pa2                0\n",
       "demp               0\n",
       "dtype: int64"
      ]
     },
     "execution_count": 7,
     "metadata": {},
     "output_type": "execute_result"
    }
   ],
   "source": [
    "df.isna().sum()"
   ]
  },
  {
   "cell_type": "markdown",
   "id": "dfd8df38-fa73-4191-b29b-1ba7508fe127",
   "metadata": {},
   "source": [
    "### Model"
   ]
  },
  {
   "cell_type": "code",
   "execution_count": 8,
   "id": "2e3e7b5a-a737-4d05-bbad-c9a8ff877082",
   "metadata": {
    "tags": []
   },
   "outputs": [],
   "source": [
    "# isolate variables X and Y\n",
    "X = df.iloc[:,0:3].values\n",
    "y = df.iloc[:, 3].values"
   ]
  },
  {
   "cell_type": "code",
   "execution_count": 9,
   "id": "c98f87e1-4efe-4c6c-aded-6829fa6ecfa7",
   "metadata": {
    "tags": []
   },
   "outputs": [
    {
     "data": {
      "text/html": [
       "<table class=\"simpletable\">\n",
       "<caption>OLS Regression Results</caption>\n",
       "<tr>\n",
       "  <th>Dep. Variable:</th>           <td>FTE</td>       <th>  R-squared:         </th> <td>   0.007</td>\n",
       "</tr>\n",
       "<tr>\n",
       "  <th>Model:</th>                   <td>OLS</td>       <th>  Adj. R-squared:    </th> <td>   0.004</td>\n",
       "</tr>\n",
       "<tr>\n",
       "  <th>Method:</th>             <td>Least Squares</td>  <th>  F-statistic:       </th> <td>   1.974</td>\n",
       "</tr>\n",
       "<tr>\n",
       "  <th>Date:</th>             <td>Sat, 04 Mar 2023</td> <th>  Prob (F-statistic):</th>  <td> 0.116</td> \n",
       "</tr>\n",
       "<tr>\n",
       "  <th>Time:</th>                 <td>08:19:57</td>     <th>  Log-Likelihood:    </th> <td> -2986.2</td>\n",
       "</tr>\n",
       "<tr>\n",
       "  <th>No. Observations:</th>      <td>   820</td>      <th>  AIC:               </th> <td>   5980.</td>\n",
       "</tr>\n",
       "<tr>\n",
       "  <th>Df Residuals:</th>          <td>   816</td>      <th>  BIC:               </th> <td>   5999.</td>\n",
       "</tr>\n",
       "<tr>\n",
       "  <th>Df Model:</th>              <td>     3</td>      <th>                     </th>     <td> </td>   \n",
       "</tr>\n",
       "<tr>\n",
       "  <th>Covariance Type:</th>      <td>nonrobust</td>    <th>                     </th>     <td> </td>   \n",
       "</tr>\n",
       "</table>\n",
       "<table class=\"simpletable\">\n",
       "<tr>\n",
       "                 <td></td>                    <th>coef</th>     <th>std err</th>      <th>t</th>      <th>P>|t|</th>  <th>[0.025</th>    <th>0.975]</th>  \n",
       "</tr>\n",
       "<tr>\n",
       "  <th>intercept</th>                       <td>   23.2728</td> <td>    1.041</td> <td>   22.349</td> <td> 0.000</td> <td>   21.229</td> <td>   25.317</td>\n",
       "</tr>\n",
       "<tr>\n",
       "  <th>New Jersey</th>                      <td>   -2.8157</td> <td>    1.159</td> <td>   -2.430</td> <td> 0.015</td> <td>   -5.091</td> <td>   -0.541</td>\n",
       "</tr>\n",
       "<tr>\n",
       "  <th>After April 1992</th>                <td>   -2.1108</td> <td>    1.473</td> <td>   -1.433</td> <td> 0.152</td> <td>   -5.001</td> <td>    0.780</td>\n",
       "</tr>\n",
       "<tr>\n",
       "  <th>New Jersey and after April 1992</th> <td>    2.6810</td> <td>    1.639</td> <td>    1.636</td> <td> 0.102</td> <td>   -0.536</td> <td>    5.898</td>\n",
       "</tr>\n",
       "</table>\n",
       "<table class=\"simpletable\">\n",
       "<tr>\n",
       "  <th>Omnibus:</th>       <td>232.659</td> <th>  Durbin-Watson:     </th> <td>   1.847</td> \n",
       "</tr>\n",
       "<tr>\n",
       "  <th>Prob(Omnibus):</th> <td> 0.000</td>  <th>  Jarque-Bera (JB):  </th> <td> 908.337</td> \n",
       "</tr>\n",
       "<tr>\n",
       "  <th>Skew:</th>          <td> 1.289</td>  <th>  Prob(JB):          </th> <td>5.72e-198</td>\n",
       "</tr>\n",
       "<tr>\n",
       "  <th>Kurtosis:</th>      <td> 7.465</td>  <th>  Cond. No.          </th> <td>    11.4</td> \n",
       "</tr>\n",
       "</table><br/><br/>Notes:<br/>[1] Standard Errors assume that the covariance matrix of the errors is correctly specified."
      ],
      "text/plain": [
       "<class 'statsmodels.iolib.summary.Summary'>\n",
       "\"\"\"\n",
       "                            OLS Regression Results                            \n",
       "==============================================================================\n",
       "Dep. Variable:                    FTE   R-squared:                       0.007\n",
       "Model:                            OLS   Adj. R-squared:                  0.004\n",
       "Method:                 Least Squares   F-statistic:                     1.974\n",
       "Date:                Sat, 04 Mar 2023   Prob (F-statistic):              0.116\n",
       "Time:                        08:19:57   Log-Likelihood:                -2986.2\n",
       "No. Observations:                 820   AIC:                             5980.\n",
       "Df Residuals:                     816   BIC:                             5999.\n",
       "Df Model:                           3                                         \n",
       "Covariance Type:            nonrobust                                         \n",
       "===================================================================================================\n",
       "                                      coef    std err          t      P>|t|      [0.025      0.975]\n",
       "---------------------------------------------------------------------------------------------------\n",
       "intercept                          23.2728      1.041     22.349      0.000      21.229      25.317\n",
       "New Jersey                         -2.8157      1.159     -2.430      0.015      -5.091      -0.541\n",
       "After April 1992                   -2.1108      1.473     -1.433      0.152      -5.001       0.780\n",
       "New Jersey and after April 1992     2.6810      1.639      1.636      0.102      -0.536       5.898\n",
       "==============================================================================\n",
       "Omnibus:                      232.659   Durbin-Watson:                   1.847\n",
       "Prob(Omnibus):                  0.000   Jarque-Bera (JB):              908.337\n",
       "Skew:                           1.289   Prob(JB):                    5.72e-198\n",
       "Kurtosis:                       7.465   Cond. No.                         11.4\n",
       "==============================================================================\n",
       "\n",
       "Notes:\n",
       "[1] Standard Errors assume that the covariance matrix of the errors is correctly specified.\n",
       "\"\"\""
      ]
     },
     "execution_count": 9,
     "metadata": {},
     "output_type": "execute_result"
    }
   ],
   "source": [
    "X = smf.add_constant(X)\n",
    "model1 = smf.OLS(y,X).fit()\n",
    "model1.summary(yname = 'FTE',\n",
    "               xname = ('intercept',\n",
    "                        'New Jersey',\n",
    "                        'After April 1992',\n",
    "                        'New Jersey and after April 1992')           \n",
    "              )"
   ]
  },
  {
   "cell_type": "markdown",
   "id": "044dede3-4a12-4c05-94b7-149a0c33b440",
   "metadata": {},
   "source": [
    "***New Jersey and April 92*** coef show us that minimum wage increase has positive impact on employment (2.68)"
   ]
  },
  {
   "cell_type": "code",
   "execution_count": 18,
   "id": "20a20502-1f88-42d8-ac10-20cc12c9ad7b",
   "metadata": {},
   "outputs": [
    {
     "data": {
      "text/html": [
       "<table class=\"simpletable\">\n",
       "<caption>OLS Regression Results</caption>\n",
       "<tr>\n",
       "  <th>Dep. Variable:</th>           <td>FTE</td>       <th>  R-squared:         </th> <td>   0.191</td>\n",
       "</tr>\n",
       "<tr>\n",
       "  <th>Model:</th>                   <td>OLS</td>       <th>  Adj. R-squared:    </th> <td>   0.185</td>\n",
       "</tr>\n",
       "<tr>\n",
       "  <th>Method:</th>             <td>Least Squares</td>  <th>  F-statistic:       </th> <td>   31.95</td>\n",
       "</tr>\n",
       "<tr>\n",
       "  <th>Date:</th>             <td>Sat, 04 Mar 2023</td> <th>  Prob (F-statistic):</th> <td>1.30e-34</td>\n",
       "</tr>\n",
       "<tr>\n",
       "  <th>Time:</th>                 <td>08:47:09</td>     <th>  Log-Likelihood:    </th> <td> -2902.4</td>\n",
       "</tr>\n",
       "<tr>\n",
       "  <th>No. Observations:</th>      <td>   820</td>      <th>  AIC:               </th> <td>   5819.</td>\n",
       "</tr>\n",
       "<tr>\n",
       "  <th>Df Residuals:</th>          <td>   813</td>      <th>  BIC:               </th> <td>   5852.</td>\n",
       "</tr>\n",
       "<tr>\n",
       "  <th>Df Model:</th>              <td>     6</td>      <th>                     </th>     <td> </td>   \n",
       "</tr>\n",
       "<tr>\n",
       "  <th>Covariance Type:</th>      <td>nonrobust</td>    <th>                     </th>     <td> </td>   \n",
       "</tr>\n",
       "</table>\n",
       "<table class=\"simpletable\">\n",
       "<tr>\n",
       "                 <td></td>                    <th>coef</th>     <th>std err</th>      <th>t</th>      <th>P>|t|</th>  <th>[0.025</th>    <th>0.975]</th>  \n",
       "</tr>\n",
       "<tr>\n",
       "  <th>intercept</th>                       <td>   23.4055</td> <td>    1.085</td> <td>   21.575</td> <td> 0.000</td> <td>   21.276</td> <td>   25.535</td>\n",
       "</tr>\n",
       "<tr>\n",
       "  <th>New Jersey</th>                      <td>   -2.2349</td> <td>    1.050</td> <td>   -2.129</td> <td> 0.034</td> <td>   -4.296</td> <td>   -0.174</td>\n",
       "</tr>\n",
       "<tr>\n",
       "  <th>After April 1992</th>                <td>   -2.1108</td> <td>    1.332</td> <td>   -1.585</td> <td> 0.113</td> <td>   -4.725</td> <td>    0.504</td>\n",
       "</tr>\n",
       "<tr>\n",
       "  <th>New Jersey and after April 1992</th> <td>    2.6810</td> <td>    1.482</td> <td>    1.809</td> <td> 0.071</td> <td>   -0.229</td> <td>    5.591</td>\n",
       "</tr>\n",
       "<tr>\n",
       "  <th>Burguer King</th>                    <td>    2.1620</td> <td>    0.748</td> <td>    2.891</td> <td> 0.004</td> <td>    0.694</td> <td>    3.630</td>\n",
       "</tr>\n",
       "<tr>\n",
       "  <th>KFC</th>                             <td>   -8.4912</td> <td>    0.890</td> <td>   -9.540</td> <td> 0.000</td> <td>  -10.238</td> <td>   -6.744</td>\n",
       "</tr>\n",
       "<tr>\n",
       "  <th>Wendys</th>                          <td>    1.0496</td> <td>    0.970</td> <td>    1.082</td> <td> 0.280</td> <td>   -0.855</td> <td>    2.954</td>\n",
       "</tr>\n",
       "</table>\n",
       "<table class=\"simpletable\">\n",
       "<tr>\n",
       "  <th>Omnibus:</th>       <td>300.626</td> <th>  Durbin-Watson:     </th> <td>   1.965</td>\n",
       "</tr>\n",
       "<tr>\n",
       "  <th>Prob(Omnibus):</th> <td> 0.000</td>  <th>  Jarque-Bera (JB):  </th> <td>1848.909</td>\n",
       "</tr>\n",
       "<tr>\n",
       "  <th>Skew:</th>          <td> 1.530</td>  <th>  Prob(JB):          </th> <td>    0.00</td>\n",
       "</tr>\n",
       "<tr>\n",
       "  <th>Kurtosis:</th>      <td> 9.690</td>  <th>  Cond. No.          </th> <td>    12.0</td>\n",
       "</tr>\n",
       "</table><br/><br/>Notes:<br/>[1] Standard Errors assume that the covariance matrix of the errors is correctly specified."
      ],
      "text/plain": [
       "<class 'statsmodels.iolib.summary.Summary'>\n",
       "\"\"\"\n",
       "                            OLS Regression Results                            \n",
       "==============================================================================\n",
       "Dep. Variable:                    FTE   R-squared:                       0.191\n",
       "Model:                            OLS   Adj. R-squared:                  0.185\n",
       "Method:                 Least Squares   F-statistic:                     31.95\n",
       "Date:                Sat, 04 Mar 2023   Prob (F-statistic):           1.30e-34\n",
       "Time:                        08:47:09   Log-Likelihood:                -2902.4\n",
       "No. Observations:                 820   AIC:                             5819.\n",
       "Df Residuals:                     813   BIC:                             5852.\n",
       "Df Model:                           6                                         \n",
       "Covariance Type:            nonrobust                                         \n",
       "===================================================================================================\n",
       "                                      coef    std err          t      P>|t|      [0.025      0.975]\n",
       "---------------------------------------------------------------------------------------------------\n",
       "intercept                          23.4055      1.085     21.575      0.000      21.276      25.535\n",
       "New Jersey                         -2.2349      1.050     -2.129      0.034      -4.296      -0.174\n",
       "After April 1992                   -2.1108      1.332     -1.585      0.113      -4.725       0.504\n",
       "New Jersey and after April 1992     2.6810      1.482      1.809      0.071      -0.229       5.591\n",
       "Burguer King                        2.1620      0.748      2.891      0.004       0.694       3.630\n",
       "KFC                                -8.4912      0.890     -9.540      0.000     -10.238      -6.744\n",
       "Wendys                              1.0496      0.970      1.082      0.280      -0.855       2.954\n",
       "==============================================================================\n",
       "Omnibus:                      300.626   Durbin-Watson:                   1.965\n",
       "Prob(Omnibus):                  0.000   Jarque-Bera (JB):             1848.909\n",
       "Skew:                           1.530   Prob(JB):                         0.00\n",
       "Kurtosis:                       9.690   Cond. No.                         12.0\n",
       "==============================================================================\n",
       "\n",
       "Notes:\n",
       "[1] Standard Errors assume that the covariance matrix of the errors is correctly specified.\n",
       "\"\"\""
      ]
     },
     "execution_count": 18,
     "metadata": {},
     "output_type": "execute_result"
    }
   ],
   "source": [
    "###model 2 with more x variables\n",
    "\n",
    "#isolate X and y\n",
    "X = df.loc[:, ['NJ', 'POST_APRIL92', 'NJ_POST_APRIL92', 'bk', 'kfc','wendys']]\n",
    "\n",
    "#regression\n",
    "X = smf.add_constant(X)\n",
    "model2 = smf.OLS(y,X).fit()\n",
    "model2.summary(yname = 'FTE',\n",
    "               xname = ('intercept',\n",
    "                        'New Jersey',\n",
    "                        'After April 1992',\n",
    "                        'New Jersey and after April 1992',\n",
    "                        'Burguer King',\n",
    "                        'KFC',\n",
    "                        'Wendys'))"
   ]
  },
  {
   "cell_type": "markdown",
   "id": "7c0149fc-cae5-4ea5-b981-cf71893b04fa",
   "metadata": {},
   "source": [
    "***we do not include roys caus dummy variable trap. So, Roys became part of intercept***"
   ]
  },
  {
   "cell_type": "markdown",
   "id": "e809025d-6d14-48d7-9157-0c68a883e38a",
   "metadata": {},
   "source": [
    "With more variables wu gotten the same coef to NJ post April but with more significant statsict (p-value.07)"
   ]
  },
  {
   "cell_type": "code",
   "execution_count": 19,
   "id": "50aaf82b-1620-4841-be9e-94cd5b1a95a4",
   "metadata": {
    "tags": []
   },
   "outputs": [
    {
     "data": {
      "text/html": [
       "<table class=\"simpletable\">\n",
       "<caption>OLS Regression Results</caption>\n",
       "<tr>\n",
       "  <th>Dep. Variable:</th>           <td>FTE</td>       <th>  R-squared:         </th> <td>   0.217</td>\n",
       "</tr>\n",
       "<tr>\n",
       "  <th>Model:</th>                   <td>OLS</td>       <th>  Adj. R-squared:    </th> <td>   0.208</td>\n",
       "</tr>\n",
       "<tr>\n",
       "  <th>Method:</th>             <td>Least Squares</td>  <th>  F-statistic:       </th> <td>   24.89</td>\n",
       "</tr>\n",
       "<tr>\n",
       "  <th>Date:</th>             <td>Sat, 04 Mar 2023</td> <th>  Prob (F-statistic):</th> <td>6.45e-38</td>\n",
       "</tr>\n",
       "<tr>\n",
       "  <th>Time:</th>                 <td>08:50:05</td>     <th>  Log-Likelihood:    </th> <td> -2889.1</td>\n",
       "</tr>\n",
       "<tr>\n",
       "  <th>No. Observations:</th>      <td>   820</td>      <th>  AIC:               </th> <td>   5798.</td>\n",
       "</tr>\n",
       "<tr>\n",
       "  <th>Df Residuals:</th>          <td>   810</td>      <th>  BIC:               </th> <td>   5845.</td>\n",
       "</tr>\n",
       "<tr>\n",
       "  <th>Df Model:</th>              <td>     9</td>      <th>                     </th>     <td> </td>   \n",
       "</tr>\n",
       "<tr>\n",
       "  <th>Covariance Type:</th>      <td>nonrobust</td>    <th>                     </th>     <td> </td>   \n",
       "</tr>\n",
       "</table>\n",
       "<table class=\"simpletable\">\n",
       "<tr>\n",
       "                 <td></td>                    <th>coef</th>     <th>std err</th>      <th>t</th>      <th>P>|t|</th>  <th>[0.025</th>    <th>0.975]</th>  \n",
       "</tr>\n",
       "<tr>\n",
       "  <th>intercept</th>                       <td>   23.9321</td> <td>    1.184</td> <td>   20.204</td> <td> 0.000</td> <td>   21.607</td> <td>   26.257</td>\n",
       "</tr>\n",
       "<tr>\n",
       "  <th>New Jersey</th>                      <td>   -1.3009</td> <td>    1.078</td> <td>   -1.207</td> <td> 0.228</td> <td>   -3.416</td> <td>    0.815</td>\n",
       "</tr>\n",
       "<tr>\n",
       "  <th>After April 1992</th>                <td>   -2.1108</td> <td>    1.313</td> <td>   -1.608</td> <td> 0.108</td> <td>   -4.688</td> <td>    0.466</td>\n",
       "</tr>\n",
       "<tr>\n",
       "  <th>New Jersey and after April 1992</th> <td>    2.6810</td> <td>    1.461</td> <td>    1.835</td> <td> 0.067</td> <td>   -0.187</td> <td>    5.549</td>\n",
       "</tr>\n",
       "<tr>\n",
       "  <th>Burguer King</th>                    <td>    1.6653</td> <td>    0.832</td> <td>    2.002</td> <td> 0.046</td> <td>    0.033</td> <td>    3.298</td>\n",
       "</tr>\n",
       "<tr>\n",
       "  <th>KFC</th>                             <td>   -8.2346</td> <td>    0.899</td> <td>   -9.161</td> <td> 0.000</td> <td>   -9.999</td> <td>   -6.470</td>\n",
       "</tr>\n",
       "<tr>\n",
       "  <th>Wendys</th>                          <td>    0.6218</td> <td>    1.017</td> <td>    0.612</td> <td> 0.541</td> <td>   -1.374</td> <td>    2.617</td>\n",
       "</tr>\n",
       "<tr>\n",
       "  <th>Co-owned</th>                        <td>   -0.7456</td> <td>    0.699</td> <td>   -1.066</td> <td> 0.287</td> <td>   -2.118</td> <td>    0.627</td>\n",
       "</tr>\n",
       "<tr>\n",
       "  <th>Central J</th>                       <td>    0.0030</td> <td>    0.867</td> <td>    0.003</td> <td> 0.997</td> <td>   -1.699</td> <td>    1.705</td>\n",
       "</tr>\n",
       "<tr>\n",
       "  <th>South J</th>                         <td>   -3.5487</td> <td>    0.759</td> <td>   -4.674</td> <td> 0.000</td> <td>   -5.039</td> <td>   -2.058</td>\n",
       "</tr>\n",
       "</table>\n",
       "<table class=\"simpletable\">\n",
       "<tr>\n",
       "  <th>Omnibus:</th>       <td>309.762</td> <th>  Durbin-Watson:     </th> <td>   2.047</td>\n",
       "</tr>\n",
       "<tr>\n",
       "  <th>Prob(Omnibus):</th> <td> 0.000</td>  <th>  Jarque-Bera (JB):  </th> <td>1987.511</td>\n",
       "</tr>\n",
       "<tr>\n",
       "  <th>Skew:</th>          <td> 1.570</td>  <th>  Prob(JB):          </th> <td>    0.00</td>\n",
       "</tr>\n",
       "<tr>\n",
       "  <th>Kurtosis:</th>      <td> 9.951</td>  <th>  Cond. No.          </th> <td>    12.6</td>\n",
       "</tr>\n",
       "</table><br/><br/>Notes:<br/>[1] Standard Errors assume that the covariance matrix of the errors is correctly specified."
      ],
      "text/plain": [
       "<class 'statsmodels.iolib.summary.Summary'>\n",
       "\"\"\"\n",
       "                            OLS Regression Results                            \n",
       "==============================================================================\n",
       "Dep. Variable:                    FTE   R-squared:                       0.217\n",
       "Model:                            OLS   Adj. R-squared:                  0.208\n",
       "Method:                 Least Squares   F-statistic:                     24.89\n",
       "Date:                Sat, 04 Mar 2023   Prob (F-statistic):           6.45e-38\n",
       "Time:                        08:50:05   Log-Likelihood:                -2889.1\n",
       "No. Observations:                 820   AIC:                             5798.\n",
       "Df Residuals:                     810   BIC:                             5845.\n",
       "Df Model:                           9                                         \n",
       "Covariance Type:            nonrobust                                         \n",
       "===================================================================================================\n",
       "                                      coef    std err          t      P>|t|      [0.025      0.975]\n",
       "---------------------------------------------------------------------------------------------------\n",
       "intercept                          23.9321      1.184     20.204      0.000      21.607      26.257\n",
       "New Jersey                         -1.3009      1.078     -1.207      0.228      -3.416       0.815\n",
       "After April 1992                   -2.1108      1.313     -1.608      0.108      -4.688       0.466\n",
       "New Jersey and after April 1992     2.6810      1.461      1.835      0.067      -0.187       5.549\n",
       "Burguer King                        1.6653      0.832      2.002      0.046       0.033       3.298\n",
       "KFC                                -8.2346      0.899     -9.161      0.000      -9.999      -6.470\n",
       "Wendys                              0.6218      1.017      0.612      0.541      -1.374       2.617\n",
       "Co-owned                           -0.7456      0.699     -1.066      0.287      -2.118       0.627\n",
       "Central J                           0.0030      0.867      0.003      0.997      -1.699       1.705\n",
       "South J                            -3.5487      0.759     -4.674      0.000      -5.039      -2.058\n",
       "==============================================================================\n",
       "Omnibus:                      309.762   Durbin-Watson:                   2.047\n",
       "Prob(Omnibus):                  0.000   Jarque-Bera (JB):             1987.511\n",
       "Skew:                           1.570   Prob(JB):                         0.00\n",
       "Kurtosis:                       9.951   Cond. No.                         12.6\n",
       "==============================================================================\n",
       "\n",
       "Notes:\n",
       "[1] Standard Errors assume that the covariance matrix of the errors is correctly specified.\n",
       "\"\"\""
      ]
     },
     "execution_count": 19,
     "metadata": {},
     "output_type": "execute_result"
    }
   ],
   "source": [
    "###model 3 - more variables\n",
    "\n",
    "#isolate X and y\n",
    "X = df.loc[:, ['NJ', 'POST_APRIL92', 'NJ_POST_APRIL92',\n",
    "               'bk', 'kfc','wendys',\n",
    "               'co_owned', 'centralj', 'southj']]\n",
    "\n",
    "#regression\n",
    "X = smf.add_constant(X)\n",
    "model3 = smf.OLS(y,X).fit()\n",
    "model3.summary(yname = 'FTE',\n",
    "               xname = ('intercept',\n",
    "                        'New Jersey',\n",
    "                        'After April 1992',\n",
    "                        'New Jersey and after April 1992',\n",
    "                        'Burguer King',\n",
    "                        'KFC',\n",
    "                        'Wendys',\n",
    "                        'Co-owned',\n",
    "                        'Central J',\n",
    "                        'South J'))"
   ]
  },
  {
   "cell_type": "markdown",
   "id": "9eaf6f69-4b8e-46de-8764-98aa563a2b8a",
   "metadata": {},
   "source": [
    "We created different angles to check de impact. So, we created 3 different models and the NJ post april coeff was the same (quite similar) on 3 scenarios. \n",
    "We can conclude that minimum wage on employment is positive in that case."
   ]
  },
  {
   "cell_type": "code",
   "execution_count": null,
   "id": "96277255-adda-4633-ac09-cd0533e680ab",
   "metadata": {},
   "outputs": [],
   "source": []
  }
 ],
 "metadata": {
  "kernelspec": {
   "display_name": "Python 3 (ipykernel)",
   "language": "python",
   "name": "python3"
  },
  "language_info": {
   "codemirror_mode": {
    "name": "ipython",
    "version": 3
   },
   "file_extension": ".py",
   "mimetype": "text/x-python",
   "name": "python",
   "nbconvert_exporter": "python",
   "pygments_lexer": "ipython3",
   "version": "3.8.16"
  }
 },
 "nbformat": 4,
 "nbformat_minor": 5
}
