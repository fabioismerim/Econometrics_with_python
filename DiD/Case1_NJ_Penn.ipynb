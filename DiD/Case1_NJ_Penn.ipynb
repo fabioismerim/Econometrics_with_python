{
 "cells": [
  {
   "cell_type": "markdown",
   "id": "7df5aa9c-c18d-4e06-9582-55287c72b571",
   "metadata": {},
   "source": [
    "# Difference in Differences\n",
    "\n",
    "## Study Case 1 - New Jersey vs Pennsylvania"
   ]
  },
  {
   "cell_type": "code",
   "execution_count": null,
   "id": "06109031-a3f5-4d79-bb25-1fca38036b8d",
   "metadata": {},
   "outputs": [],
   "source": []
  }
 ],
 "metadata": {
  "kernelspec": {
   "display_name": "Python 3 (ipykernel)",
   "language": "python",
   "name": "python3"
  },
  "language_info": {
   "codemirror_mode": {
    "name": "ipython",
    "version": 3
   },
   "file_extension": ".py",
   "mimetype": "text/x-python",
   "name": "python",
   "nbconvert_exporter": "python",
   "pygments_lexer": "ipython3",
   "version": "3.8.16"
  }
 },
 "nbformat": 4,
 "nbformat_minor": 5
}
