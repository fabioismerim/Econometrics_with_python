{
 "cells": [
  {
   "cell_type": "markdown",
   "id": "4dfbf79e-cdc4-4432-816c-5e81a9e6c88a",
   "metadata": {},
   "source": [
    "# CHURN Analysis using CHAID - Chi-Squared Automatic Inference Detection"
   ]
  },
  {
   "cell_type": "code",
   "execution_count": null,
   "id": "78a0cd46-caf1-4301-af36-047a923ee451",
   "metadata": {},
   "outputs": [],
   "source": []
  }
 ],
 "metadata": {
  "kernelspec": {
   "display_name": "Python 3 (ipykernel)",
   "language": "python",
   "name": "python3"
  },
  "language_info": {
   "codemirror_mode": {
    "name": "ipython",
    "version": 3
   },
   "file_extension": ".py",
   "mimetype": "text/x-python",
   "name": "python",
   "nbconvert_exporter": "python",
   "pygments_lexer": "ipython3",
   "version": "3.8.16"
  }
 },
 "nbformat": 4,
 "nbformat_minor": 5
}
