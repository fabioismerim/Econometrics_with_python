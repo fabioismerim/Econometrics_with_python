{
 "cells": [
  {
   "cell_type": "markdown",
   "id": "6d85250f-5b37-4201-a53f-155b05a37090",
   "metadata": {},
   "source": [
    "# Propensity Score Matcing"
   ]
  },
  {
   "cell_type": "code",
   "execution_count": 35,
   "id": "c5c89084-c928-4ed1-973c-375780742904",
   "metadata": {
    "tags": []
   },
   "outputs": [],
   "source": [
    "#import packages\n",
    "import pandas as pd\n",
    "import numpy as np\n",
    "import seaborn as sns\n",
    "import scipy\n",
    "import matplotlib.pyplot as plt\n",
    "import matplotlib.style as style\n",
    "import statsmodels.api as sm\n",
    "import warnings\n",
    "from causalinference import CausalModel\n",
    "warnings.filterwarnings('ignore')\n",
    "\n",
    "style.use('fivethirtyeight')"
   ]
  },
  {
   "cell_type": "code",
   "execution_count": 2,
   "id": "0bb23ed3-60c4-4498-bbef-5b0b88a2df97",
   "metadata": {
    "tags": []
   },
   "outputs": [
    {
     "data": {
      "text/html": [
       "<div>\n",
       "<style scoped>\n",
       "    .dataframe tbody tr th:only-of-type {\n",
       "        vertical-align: middle;\n",
       "    }\n",
       "\n",
       "    .dataframe tbody tr th {\n",
       "        vertical-align: top;\n",
       "    }\n",
       "\n",
       "    .dataframe thead th {\n",
       "        text-align: right;\n",
       "    }\n",
       "</style>\n",
       "<table border=\"1\" class=\"dataframe\">\n",
       "  <thead>\n",
       "    <tr style=\"text-align: right;\">\n",
       "      <th></th>\n",
       "      <th>treat</th>\n",
       "      <th>age</th>\n",
       "      <th>educ</th>\n",
       "      <th>black</th>\n",
       "      <th>hispan</th>\n",
       "      <th>married</th>\n",
       "      <th>nodegree</th>\n",
       "      <th>re74</th>\n",
       "      <th>re75</th>\n",
       "      <th>re78</th>\n",
       "    </tr>\n",
       "  </thead>\n",
       "  <tbody>\n",
       "    <tr>\n",
       "      <th>0</th>\n",
       "      <td>1</td>\n",
       "      <td>37</td>\n",
       "      <td>11</td>\n",
       "      <td>1</td>\n",
       "      <td>0</td>\n",
       "      <td>1</td>\n",
       "      <td>1</td>\n",
       "      <td>0.0</td>\n",
       "      <td>0.0</td>\n",
       "      <td>9930.0460</td>\n",
       "    </tr>\n",
       "    <tr>\n",
       "      <th>1</th>\n",
       "      <td>1</td>\n",
       "      <td>22</td>\n",
       "      <td>9</td>\n",
       "      <td>0</td>\n",
       "      <td>1</td>\n",
       "      <td>0</td>\n",
       "      <td>1</td>\n",
       "      <td>0.0</td>\n",
       "      <td>0.0</td>\n",
       "      <td>3595.8940</td>\n",
       "    </tr>\n",
       "    <tr>\n",
       "      <th>2</th>\n",
       "      <td>1</td>\n",
       "      <td>30</td>\n",
       "      <td>12</td>\n",
       "      <td>1</td>\n",
       "      <td>0</td>\n",
       "      <td>0</td>\n",
       "      <td>0</td>\n",
       "      <td>0.0</td>\n",
       "      <td>0.0</td>\n",
       "      <td>24909.4500</td>\n",
       "    </tr>\n",
       "    <tr>\n",
       "      <th>3</th>\n",
       "      <td>1</td>\n",
       "      <td>27</td>\n",
       "      <td>11</td>\n",
       "      <td>1</td>\n",
       "      <td>0</td>\n",
       "      <td>0</td>\n",
       "      <td>1</td>\n",
       "      <td>0.0</td>\n",
       "      <td>0.0</td>\n",
       "      <td>7506.1460</td>\n",
       "    </tr>\n",
       "    <tr>\n",
       "      <th>4</th>\n",
       "      <td>1</td>\n",
       "      <td>33</td>\n",
       "      <td>8</td>\n",
       "      <td>1</td>\n",
       "      <td>0</td>\n",
       "      <td>0</td>\n",
       "      <td>1</td>\n",
       "      <td>0.0</td>\n",
       "      <td>0.0</td>\n",
       "      <td>289.7899</td>\n",
       "    </tr>\n",
       "  </tbody>\n",
       "</table>\n",
       "</div>"
      ],
      "text/plain": [
       "   treat  age  educ  black  hispan  married  nodegree  re74  re75        re78\n",
       "0      1   37    11      1       0        1         1   0.0   0.0   9930.0460\n",
       "1      1   22     9      0       1        0         1   0.0   0.0   3595.8940\n",
       "2      1   30    12      1       0        0         0   0.0   0.0  24909.4500\n",
       "3      1   27    11      1       0        0         1   0.0   0.0   7506.1460\n",
       "4      1   33     8      1       0        0         1   0.0   0.0    289.7899"
      ]
     },
     "execution_count": 2,
     "metadata": {},
     "output_type": "execute_result"
    }
   ],
   "source": [
    "#import dataset\n",
    "df = pd.read_csv('lalonde.csv')\n",
    "df.head()"
   ]
  },
  {
   "cell_type": "code",
   "execution_count": 3,
   "id": "d742218b-7146-460c-9b05-b23460f0a96e",
   "metadata": {
    "tags": []
   },
   "outputs": [
    {
     "data": {
      "text/html": [
       "<div>\n",
       "<style scoped>\n",
       "    .dataframe tbody tr th:only-of-type {\n",
       "        vertical-align: middle;\n",
       "    }\n",
       "\n",
       "    .dataframe tbody tr th {\n",
       "        vertical-align: top;\n",
       "    }\n",
       "\n",
       "    .dataframe thead th {\n",
       "        text-align: right;\n",
       "    }\n",
       "</style>\n",
       "<table border=\"1\" class=\"dataframe\">\n",
       "  <thead>\n",
       "    <tr style=\"text-align: right;\">\n",
       "      <th></th>\n",
       "      <th>age</th>\n",
       "      <th>educ</th>\n",
       "      <th>black</th>\n",
       "      <th>hispan</th>\n",
       "      <th>married</th>\n",
       "      <th>nodegree</th>\n",
       "      <th>re74</th>\n",
       "      <th>re75</th>\n",
       "      <th>re78</th>\n",
       "    </tr>\n",
       "    <tr>\n",
       "      <th>treat</th>\n",
       "      <th></th>\n",
       "      <th></th>\n",
       "      <th></th>\n",
       "      <th></th>\n",
       "      <th></th>\n",
       "      <th></th>\n",
       "      <th></th>\n",
       "      <th></th>\n",
       "      <th></th>\n",
       "    </tr>\n",
       "  </thead>\n",
       "  <tbody>\n",
       "    <tr>\n",
       "      <th>0</th>\n",
       "      <td>28.030303</td>\n",
       "      <td>10.235431</td>\n",
       "      <td>0.202797</td>\n",
       "      <td>0.142191</td>\n",
       "      <td>0.512821</td>\n",
       "      <td>0.596737</td>\n",
       "      <td>5619.236506</td>\n",
       "      <td>2466.484443</td>\n",
       "      <td>6984.169742</td>\n",
       "    </tr>\n",
       "    <tr>\n",
       "      <th>1</th>\n",
       "      <td>25.816216</td>\n",
       "      <td>10.345946</td>\n",
       "      <td>0.843243</td>\n",
       "      <td>0.059459</td>\n",
       "      <td>0.189189</td>\n",
       "      <td>0.708108</td>\n",
       "      <td>2095.573689</td>\n",
       "      <td>1532.055314</td>\n",
       "      <td>6349.143530</td>\n",
       "    </tr>\n",
       "  </tbody>\n",
       "</table>\n",
       "</div>"
      ],
      "text/plain": [
       "             age       educ     black    hispan   married  nodegree  \\\n",
       "treat                                                                 \n",
       "0      28.030303  10.235431  0.202797  0.142191  0.512821  0.596737   \n",
       "1      25.816216  10.345946  0.843243  0.059459  0.189189  0.708108   \n",
       "\n",
       "              re74         re75         re78  \n",
       "treat                                         \n",
       "0      5619.236506  2466.484443  6984.169742  \n",
       "1      2095.573689  1532.055314  6349.143530  "
      ]
     },
     "execution_count": 3,
     "metadata": {},
     "output_type": "execute_result"
    }
   ],
   "source": [
    "#looking for averages per group\n",
    "\n",
    "df.groupby('treat').mean()"
   ]
  },
  {
   "cell_type": "markdown",
   "id": "37fe0321-116a-41e0-a8f4-1ac0e0571259",
   "metadata": {},
   "source": [
    "#### T-test"
   ]
  },
  {
   "cell_type": "code",
   "execution_count": 4,
   "id": "6be95883-77a2-4d7c-947e-4e45fd4e3475",
   "metadata": {
    "tags": []
   },
   "outputs": [],
   "source": [
    "#list with continous variables\n",
    "confounders_list = ['age', 'educ', 're74', 're75']"
   ]
  },
  {
   "cell_type": "code",
   "execution_count": 5,
   "id": "c42297f9-ddad-4c7c-9fc6-08f7ea6eb15f",
   "metadata": {
    "tags": []
   },
   "outputs": [],
   "source": [
    "#empty dic\n",
    "t_test_results = {}\n",
    "\n",
    "#loop\n",
    "for x in confounders_list:\n",
    "    group1 = df[df['treat'] == 0].dropna()[x]\n",
    "    group2 = df[df['treat'] == 1].dropna()[x]\n",
    "    \n",
    "    #append to dic\n",
    "    t_test_results[x] = scipy.stats.ttest_ind(group1, group2)\n",
    "    \n",
    "results = pd.DataFrame.from_dict(t_test_results, orient = 'Index')\n",
    "results.columns = ['statistic', 'p_value']\n",
    "    "
   ]
  },
  {
   "cell_type": "code",
   "execution_count": 6,
   "id": "1f647570-1377-4921-8f89-be4b71e011ba",
   "metadata": {
    "tags": []
   },
   "outputs": [
    {
     "data": {
      "text/html": [
       "<div>\n",
       "<style scoped>\n",
       "    .dataframe tbody tr th:only-of-type {\n",
       "        vertical-align: middle;\n",
       "    }\n",
       "\n",
       "    .dataframe tbody tr th {\n",
       "        vertical-align: top;\n",
       "    }\n",
       "\n",
       "    .dataframe thead th {\n",
       "        text-align: right;\n",
       "    }\n",
       "</style>\n",
       "<table border=\"1\" class=\"dataframe\">\n",
       "  <thead>\n",
       "    <tr style=\"text-align: right;\">\n",
       "      <th></th>\n",
       "      <th>statistic</th>\n",
       "      <th>p_value</th>\n",
       "    </tr>\n",
       "  </thead>\n",
       "  <tbody>\n",
       "    <tr>\n",
       "      <th>age</th>\n",
       "      <td>2.559013</td>\n",
       "      <td>1.073633e-02</td>\n",
       "    </tr>\n",
       "    <tr>\n",
       "      <th>educ</th>\n",
       "      <td>-0.477747</td>\n",
       "      <td>6.330010e-01</td>\n",
       "    </tr>\n",
       "    <tr>\n",
       "      <th>re74</th>\n",
       "      <td>6.381464</td>\n",
       "      <td>3.464585e-10</td>\n",
       "    </tr>\n",
       "    <tr>\n",
       "      <th>re75</th>\n",
       "      <td>3.248551</td>\n",
       "      <td>1.223444e-03</td>\n",
       "    </tr>\n",
       "  </tbody>\n",
       "</table>\n",
       "</div>"
      ],
      "text/plain": [
       "      statistic       p_value\n",
       "age    2.559013  1.073633e-02\n",
       "educ  -0.477747  6.330010e-01\n",
       "re74   6.381464  3.464585e-10\n",
       "re75   3.248551  1.223444e-03"
      ]
     },
     "execution_count": 6,
     "metadata": {},
     "output_type": "execute_result"
    }
   ],
   "source": [
    "results"
   ]
  },
  {
   "cell_type": "markdown",
   "id": "7ae1c15a-d768-4c32-9d63-f67395219d49",
   "metadata": {},
   "source": [
    "#### isolating treat and cofounders"
   ]
  },
  {
   "cell_type": "code",
   "execution_count": 7,
   "id": "e8f6ef70-409e-4070-bce1-877295b97701",
   "metadata": {
    "tags": []
   },
   "outputs": [],
   "source": [
    "treat = df[['treat']]\n",
    "confounders = df.iloc[:, 1:-1]"
   ]
  },
  {
   "cell_type": "markdown",
   "id": "5252a0bb-e135-44fb-94e7-28c8846fdd02",
   "metadata": {},
   "source": [
    "#### log reg"
   ]
  },
  {
   "cell_type": "code",
   "execution_count": 8,
   "id": "21d6d935-1442-446d-b2b0-b559cc3bf2b3",
   "metadata": {
    "tags": []
   },
   "outputs": [
    {
     "name": "stdout",
     "output_type": "stream",
     "text": [
      "Optimization terminated successfully.\n",
      "         Current function value: 0.397267\n",
      "         Iterations 7\n"
     ]
    }
   ],
   "source": [
    "confounders = sm.add_constant(confounders)\n",
    "propensity_model = sm.Logit(treat, confounders).fit()"
   ]
  },
  {
   "cell_type": "code",
   "execution_count": 9,
   "id": "15b505a6-1370-4de8-9bbe-b81a559a71c5",
   "metadata": {
    "tags": []
   },
   "outputs": [
    {
     "data": {
      "text/html": [
       "<table class=\"simpletable\">\n",
       "<caption>Logit Regression Results</caption>\n",
       "<tr>\n",
       "  <th>Dep. Variable:</th>         <td>treat</td>      <th>  No. Observations:  </th>  <td>   614</td>  \n",
       "</tr>\n",
       "<tr>\n",
       "  <th>Model:</th>                 <td>Logit</td>      <th>  Df Residuals:      </th>  <td>   605</td>  \n",
       "</tr>\n",
       "<tr>\n",
       "  <th>Method:</th>                 <td>MLE</td>       <th>  Df Model:          </th>  <td>     8</td>  \n",
       "</tr>\n",
       "<tr>\n",
       "  <th>Date:</th>            <td>Mon, 13 Mar 2023</td> <th>  Pseudo R-squ.:     </th>  <td>0.3508</td>  \n",
       "</tr>\n",
       "<tr>\n",
       "  <th>Time:</th>                <td>05:33:00</td>     <th>  Log-Likelihood:    </th> <td> -243.92</td> \n",
       "</tr>\n",
       "<tr>\n",
       "  <th>converged:</th>             <td>True</td>       <th>  LL-Null:           </th> <td> -375.75</td> \n",
       "</tr>\n",
       "<tr>\n",
       "  <th>Covariance Type:</th>     <td>nonrobust</td>    <th>  LLR p-value:       </th> <td>2.194e-52</td>\n",
       "</tr>\n",
       "</table>\n",
       "<table class=\"simpletable\">\n",
       "<tr>\n",
       "      <td></td>        <th>coef</th>     <th>std err</th>      <th>z</th>      <th>P>|z|</th>  <th>[0.025</th>    <th>0.975]</th>  \n",
       "</tr>\n",
       "<tr>\n",
       "  <th>const</th>    <td>   -4.7286</td> <td>    1.017</td> <td>   -4.649</td> <td> 0.000</td> <td>   -6.722</td> <td>   -2.735</td>\n",
       "</tr>\n",
       "<tr>\n",
       "  <th>age</th>      <td>    0.0158</td> <td>    0.014</td> <td>    1.162</td> <td> 0.245</td> <td>   -0.011</td> <td>    0.042</td>\n",
       "</tr>\n",
       "<tr>\n",
       "  <th>educ</th>     <td>    0.1613</td> <td>    0.065</td> <td>    2.477</td> <td> 0.013</td> <td>    0.034</td> <td>    0.289</td>\n",
       "</tr>\n",
       "<tr>\n",
       "  <th>black</th>    <td>    3.0654</td> <td>    0.287</td> <td>   10.698</td> <td> 0.000</td> <td>    2.504</td> <td>    3.627</td>\n",
       "</tr>\n",
       "<tr>\n",
       "  <th>hispan</th>   <td>    0.9836</td> <td>    0.426</td> <td>    2.311</td> <td> 0.021</td> <td>    0.149</td> <td>    1.818</td>\n",
       "</tr>\n",
       "<tr>\n",
       "  <th>married</th>  <td>   -0.8321</td> <td>    0.290</td> <td>   -2.866</td> <td> 0.004</td> <td>   -1.401</td> <td>   -0.263</td>\n",
       "</tr>\n",
       "<tr>\n",
       "  <th>nodegree</th> <td>    0.7073</td> <td>    0.338</td> <td>    2.095</td> <td> 0.036</td> <td>    0.045</td> <td>    1.369</td>\n",
       "</tr>\n",
       "<tr>\n",
       "  <th>re74</th>     <td>-7.178e-05</td> <td> 2.87e-05</td> <td>   -2.497</td> <td> 0.013</td> <td>   -0.000</td> <td>-1.54e-05</td>\n",
       "</tr>\n",
       "<tr>\n",
       "  <th>re75</th>     <td> 5.345e-05</td> <td> 4.63e-05</td> <td>    1.153</td> <td> 0.249</td> <td>-3.74e-05</td> <td>    0.000</td>\n",
       "</tr>\n",
       "</table>"
      ],
      "text/plain": [
       "<class 'statsmodels.iolib.summary.Summary'>\n",
       "\"\"\"\n",
       "                           Logit Regression Results                           \n",
       "==============================================================================\n",
       "Dep. Variable:                  treat   No. Observations:                  614\n",
       "Model:                          Logit   Df Residuals:                      605\n",
       "Method:                           MLE   Df Model:                            8\n",
       "Date:                Mon, 13 Mar 2023   Pseudo R-squ.:                  0.3508\n",
       "Time:                        05:33:00   Log-Likelihood:                -243.92\n",
       "converged:                       True   LL-Null:                       -375.75\n",
       "Covariance Type:            nonrobust   LLR p-value:                 2.194e-52\n",
       "==============================================================================\n",
       "                 coef    std err          z      P>|z|      [0.025      0.975]\n",
       "------------------------------------------------------------------------------\n",
       "const         -4.7286      1.017     -4.649      0.000      -6.722      -2.735\n",
       "age            0.0158      0.014      1.162      0.245      -0.011       0.042\n",
       "educ           0.1613      0.065      2.477      0.013       0.034       0.289\n",
       "black          3.0654      0.287     10.698      0.000       2.504       3.627\n",
       "hispan         0.9836      0.426      2.311      0.021       0.149       1.818\n",
       "married       -0.8321      0.290     -2.866      0.004      -1.401      -0.263\n",
       "nodegree       0.7073      0.338      2.095      0.036       0.045       1.369\n",
       "re74       -7.178e-05   2.87e-05     -2.497      0.013      -0.000   -1.54e-05\n",
       "re75        5.345e-05   4.63e-05      1.153      0.249   -3.74e-05       0.000\n",
       "==============================================================================\n",
       "\"\"\""
      ]
     },
     "execution_count": 9,
     "metadata": {},
     "output_type": "execute_result"
    }
   ],
   "source": [
    "propensity_model.summary()"
   ]
  },
  {
   "cell_type": "markdown",
   "id": "c58b7ebf-d644-4947-81ef-510a2be2883c",
   "metadata": {},
   "source": [
    "#### predicting the propensity to be treated "
   ]
  },
  {
   "cell_type": "code",
   "execution_count": 10,
   "id": "16c1376e-e4db-49a2-ad9a-5d83851c4c3b",
   "metadata": {
    "tags": []
   },
   "outputs": [
    {
     "data": {
      "text/plain": [
       "0      0.638770\n",
       "1      0.224634\n",
       "2      0.678244\n",
       "3      0.776324\n",
       "4      0.701639\n",
       "         ...   \n",
       "609    0.123144\n",
       "610    0.034560\n",
       "611    0.183351\n",
       "612    0.383032\n",
       "613    0.089712\n",
       "Length: 614, dtype: float64"
      ]
     },
     "execution_count": 10,
     "metadata": {},
     "output_type": "execute_result"
    }
   ],
   "source": [
    "propensity_socre = propensity_model.predict(confounders)\n",
    "propensity_socre"
   ]
  },
  {
   "cell_type": "code",
   "execution_count": 11,
   "id": "fde76e3c-73a0-4a04-8bf0-5cf6b656f96d",
   "metadata": {
    "tags": []
   },
   "outputs": [
    {
     "data": {
      "text/html": [
       "<div>\n",
       "<style scoped>\n",
       "    .dataframe tbody tr th:only-of-type {\n",
       "        vertical-align: middle;\n",
       "    }\n",
       "\n",
       "    .dataframe tbody tr th {\n",
       "        vertical-align: top;\n",
       "    }\n",
       "\n",
       "    .dataframe thead th {\n",
       "        text-align: right;\n",
       "    }\n",
       "</style>\n",
       "<table border=\"1\" class=\"dataframe\">\n",
       "  <thead>\n",
       "    <tr style=\"text-align: right;\">\n",
       "      <th></th>\n",
       "      <th>treat</th>\n",
       "      <th>propensity_score</th>\n",
       "    </tr>\n",
       "  </thead>\n",
       "  <tbody>\n",
       "    <tr>\n",
       "      <th>0</th>\n",
       "      <td>1</td>\n",
       "      <td>0.638770</td>\n",
       "    </tr>\n",
       "    <tr>\n",
       "      <th>1</th>\n",
       "      <td>1</td>\n",
       "      <td>0.224634</td>\n",
       "    </tr>\n",
       "    <tr>\n",
       "      <th>2</th>\n",
       "      <td>1</td>\n",
       "      <td>0.678244</td>\n",
       "    </tr>\n",
       "    <tr>\n",
       "      <th>3</th>\n",
       "      <td>1</td>\n",
       "      <td>0.776324</td>\n",
       "    </tr>\n",
       "    <tr>\n",
       "      <th>4</th>\n",
       "      <td>1</td>\n",
       "      <td>0.701639</td>\n",
       "    </tr>\n",
       "    <tr>\n",
       "      <th>...</th>\n",
       "      <td>...</td>\n",
       "      <td>...</td>\n",
       "    </tr>\n",
       "    <tr>\n",
       "      <th>609</th>\n",
       "      <td>0</td>\n",
       "      <td>0.123144</td>\n",
       "    </tr>\n",
       "    <tr>\n",
       "      <th>610</th>\n",
       "      <td>0</td>\n",
       "      <td>0.034560</td>\n",
       "    </tr>\n",
       "    <tr>\n",
       "      <th>611</th>\n",
       "      <td>0</td>\n",
       "      <td>0.183351</td>\n",
       "    </tr>\n",
       "    <tr>\n",
       "      <th>612</th>\n",
       "      <td>0</td>\n",
       "      <td>0.383032</td>\n",
       "    </tr>\n",
       "    <tr>\n",
       "      <th>613</th>\n",
       "      <td>0</td>\n",
       "      <td>0.089712</td>\n",
       "    </tr>\n",
       "  </tbody>\n",
       "</table>\n",
       "<p>614 rows × 2 columns</p>\n",
       "</div>"
      ],
      "text/plain": [
       "     treat  propensity_score\n",
       "0        1          0.638770\n",
       "1        1          0.224634\n",
       "2        1          0.678244\n",
       "3        1          0.776324\n",
       "4        1          0.701639\n",
       "..     ...               ...\n",
       "609      0          0.123144\n",
       "610      0          0.034560\n",
       "611      0          0.183351\n",
       "612      0          0.383032\n",
       "613      0          0.089712\n",
       "\n",
       "[614 rows x 2 columns]"
      ]
     },
     "execution_count": 11,
     "metadata": {},
     "output_type": "execute_result"
    }
   ],
   "source": [
    "#create df\n",
    "\n",
    "propensity_df = treat.copy()\n",
    "propensity_df['propensity_score'] = propensity_socre\n",
    "propensity_df"
   ]
  },
  {
   "cell_type": "code",
   "execution_count": 12,
   "id": "2906bc9a-26d2-4910-ab00-87ce01665149",
   "metadata": {
    "tags": []
   },
   "outputs": [
    {
     "data": {
      "text/html": [
       "<div>\n",
       "<style scoped>\n",
       "    .dataframe tbody tr th:only-of-type {\n",
       "        vertical-align: middle;\n",
       "    }\n",
       "\n",
       "    .dataframe tbody tr th {\n",
       "        vertical-align: top;\n",
       "    }\n",
       "\n",
       "    .dataframe thead th {\n",
       "        text-align: right;\n",
       "    }\n",
       "</style>\n",
       "<table border=\"1\" class=\"dataframe\">\n",
       "  <thead>\n",
       "    <tr style=\"text-align: right;\">\n",
       "      <th></th>\n",
       "      <th>propensity_score</th>\n",
       "    </tr>\n",
       "  </thead>\n",
       "  <tbody>\n",
       "    <tr>\n",
       "      <th>185</th>\n",
       "      <td>0.026118</td>\n",
       "    </tr>\n",
       "    <tr>\n",
       "      <th>186</th>\n",
       "      <td>0.015993</td>\n",
       "    </tr>\n",
       "    <tr>\n",
       "      <th>187</th>\n",
       "      <td>0.026004</td>\n",
       "    </tr>\n",
       "    <tr>\n",
       "      <th>188</th>\n",
       "      <td>0.038500</td>\n",
       "    </tr>\n",
       "    <tr>\n",
       "      <th>189</th>\n",
       "      <td>0.432900</td>\n",
       "    </tr>\n",
       "  </tbody>\n",
       "</table>\n",
       "</div>"
      ],
      "text/plain": [
       "     propensity_score\n",
       "185          0.026118\n",
       "186          0.015993\n",
       "187          0.026004\n",
       "188          0.038500\n",
       "189          0.432900"
      ]
     },
     "metadata": {},
     "output_type": "display_data"
    },
    {
     "data": {
      "text/html": [
       "<div>\n",
       "<style scoped>\n",
       "    .dataframe tbody tr th:only-of-type {\n",
       "        vertical-align: middle;\n",
       "    }\n",
       "\n",
       "    .dataframe tbody tr th {\n",
       "        vertical-align: top;\n",
       "    }\n",
       "\n",
       "    .dataframe thead th {\n",
       "        text-align: right;\n",
       "    }\n",
       "</style>\n",
       "<table border=\"1\" class=\"dataframe\">\n",
       "  <thead>\n",
       "    <tr style=\"text-align: right;\">\n",
       "      <th></th>\n",
       "      <th>propensity_score</th>\n",
       "    </tr>\n",
       "  </thead>\n",
       "  <tbody>\n",
       "    <tr>\n",
       "      <th>0</th>\n",
       "      <td>0.638770</td>\n",
       "    </tr>\n",
       "    <tr>\n",
       "      <th>1</th>\n",
       "      <td>0.224634</td>\n",
       "    </tr>\n",
       "    <tr>\n",
       "      <th>2</th>\n",
       "      <td>0.678244</td>\n",
       "    </tr>\n",
       "    <tr>\n",
       "      <th>3</th>\n",
       "      <td>0.776324</td>\n",
       "    </tr>\n",
       "    <tr>\n",
       "      <th>4</th>\n",
       "      <td>0.701639</td>\n",
       "    </tr>\n",
       "  </tbody>\n",
       "</table>\n",
       "</div>"
      ],
      "text/plain": [
       "   propensity_score\n",
       "0          0.638770\n",
       "1          0.224634\n",
       "2          0.678244\n",
       "3          0.776324\n",
       "4          0.701639"
      ]
     },
     "metadata": {},
     "output_type": "display_data"
    }
   ],
   "source": [
    "#split df\n",
    "\n",
    "non_treated = propensity_df[propensity_df['treat'] == 0][['propensity_score']]\n",
    "treated = propensity_df[propensity_df['treat'] == 1][['propensity_score']]\n",
    "\n",
    "#check\n",
    "display(non_treated.head())\n",
    "display(treated.head())"
   ]
  },
  {
   "cell_type": "markdown",
   "id": "95ea78fa-eb76-4b5d-8aa1-061ff1bf7887",
   "metadata": {},
   "source": [
    "#### Commom Support Region"
   ]
  },
  {
   "cell_type": "code",
   "execution_count": 32,
   "id": "19c76fe7-7ea4-4b2b-a460-c69daf3559f1",
   "metadata": {
    "tags": []
   },
   "outputs": [
    {
     "data": {
      "image/png": "[encoded data removed]",
      "text/plain": [
       "<Figure size 640x480 with 1 Axes>"
      ]
     },
     "metadata": {},
     "output_type": "display_data"
    }
   ],
   "source": [
    "plot_non_treated = sns.kdeplot(non_treated, \n",
    "                               palette = \"rocket\",\n",
    "                               shade = True,\n",
    "                               label = 'Non Treated')\n",
    "\n",
    "plot_non_treated = sns.kdeplot(treated, \n",
    "                               palette = \"winter\",\n",
    "                               shade = True,\n",
    "                               label = 'Treated')\n",
    "\n",
    "plt.legend()\n",
    "plt.show()"
   ]
  },
  {
   "cell_type": "code",
   "execution_count": 33,
   "id": "548f4612-6ba5-47ae-86f5-22b43463ac48",
   "metadata": {
    "tags": []
   },
   "outputs": [],
   "source": [
    "#isolate Y, treat and confounders\n",
    "\n",
    "\n",
    "treat = df[['treat']].values\n",
    "confounders = df.iloc[:, 1:-1].values\n",
    "y = df.iloc[:,-1].values\n"
   ]
  },
  {
   "cell_type": "markdown",
   "id": "08cc9f6b-8788-4329-8cb4-4a59a29e96d0",
   "metadata": {},
   "source": [
    "#### PSM"
   ]
  },
  {
   "cell_type": "code",
   "execution_count": 37,
   "id": "09136f5d-88c7-4a1d-9d37-2b7d1546e6ec",
   "metadata": {
    "tags": []
   },
   "outputs": [],
   "source": [
    "propensity_model = CausalModel(y, treat, confounders)\n",
    "propensity_model.est_propensity_s()\n",
    "propensity_model.est_via_matching(bias_adj = True)"
   ]
  },
  {
   "cell_type": "code",
   "execution_count": 38,
   "id": "9c21a85c-6169-483b-9c95-51d851ffec78",
   "metadata": {
    "tags": []
   },
   "outputs": [
    {
     "name": "stdout",
     "output_type": "stream",
     "text": [
      "\n",
      "Treatment Effect Estimates: Matching\n",
      "\n",
      "                     Est.       S.e.          z      P>|z|      [95% Conf. int.]\n",
      "--------------------------------------------------------------------------------\n",
      "           ATE   -444.122   1599.269     -0.278      0.781  -3578.690   2690.446\n",
      "           ATC   -722.201   2021.846     -0.357      0.721  -4685.019   3240.617\n",
      "           ATT    200.720   1779.421      0.113      0.910  -3286.945   3688.385\n",
      "\n"
     ]
    }
   ],
   "source": [
    "print(propensity_model.estimates)"
   ]
  },
  {
   "cell_type": "code",
   "execution_count": 39,
   "id": "0dc6a6bc-94d2-4313-9823-7af263c6c490",
   "metadata": {
    "tags": []
   },
   "outputs": [
    {
     "name": "stdout",
     "output_type": "stream",
     "text": [
      "\n",
      "Estimated Parameters of Propensity Score\n",
      "\n",
      "                    Coef.       S.e.          z      P>|z|      [95% Conf. int.]\n",
      "--------------------------------------------------------------------------------\n",
      "     Intercept    -21.096      2.687     -7.851      0.000    -26.363    -15.829\n",
      "            X2      2.635      0.367      7.179      0.000      1.915      3.354\n",
      "            X4     -3.026      0.717     -4.222      0.000     -4.431     -1.621\n",
      "            X6      0.000      0.000      0.847      0.397     -0.000      0.000\n",
      "            X3      5.137      1.845      2.785      0.005      1.521      8.753\n",
      "            X1      1.175      0.316      3.713      0.000      0.555      1.796\n",
      "            X5      0.376      0.450      0.836      0.403     -0.505      1.258\n",
      "            X7      0.000      0.000      1.496      0.135     -0.000      0.000\n",
      "            X0      0.988      0.142      6.983      0.000      0.711      1.266\n",
      "         X0*X0     -0.015      0.002     -6.524      0.000     -0.019     -0.010\n",
      "         X1*X1     -0.064      0.018     -3.539      0.000     -0.099     -0.028\n",
      "         X6*X0     -0.000      0.000     -2.876      0.004     -0.000     -0.000\n",
      "         X6*X6      0.000      0.000      2.420      0.016      0.000      0.000\n",
      "         X3*X0     -0.223      0.081     -2.752      0.006     -0.382     -0.064\n",
      "         X4*X3      2.845      1.071      2.656      0.008      0.746      4.945\n",
      "         X2*X4      1.525      0.781      1.952      0.051     -0.006      3.055\n",
      "\n"
     ]
    }
   ],
   "source": [
    "print(propensity_model.propensity)"
   ]
  },
  {
   "cell_type": "code",
   "execution_count": null,
   "id": "f8d4eacc-eb7a-4fc7-ab9b-4d87e00169ff",
   "metadata": {},
   "outputs": [],
   "source": []
  }
 ],
 "metadata": {
  "kernelspec": {
   "display_name": "Python 3 (ipykernel)",
   "language": "python",
   "name": "python3"
  },
  "language_info": {
   "codemirror_mode": {
    "name": "ipython",
    "version": 3
   },
   "file_extension": ".py",
   "mimetype": "text/x-python",
   "name": "python",
   "nbconvert_exporter": "python",
   "pygments_lexer": "ipython3",
   "version": "3.8.16"
  }
 },
 "nbformat": 4,
 "nbformat_minor": 5
}
